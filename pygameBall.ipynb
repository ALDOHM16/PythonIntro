{
 "cells": [
  {
   "cell_type": "markdown",
   "id": "978fa6e0",
   "metadata": {},
   "source": [
    "# Python Pygame Introduction\n",
    "Author:  Pete Shinners\n",
    "Contact: pete@shinners.org\n",
    "https://www.pygame.org/docs/tut/PygameIntro.html"
   ]
  },
  {
   "cell_type": "markdown",
   "id": "a3409b53",
   "metadata": {},
   "source": [
    "The import pygame imports the package with all the available pygame modules. The call to pygame.init() initializes each of these modules."
   ]
  },
  {
   "cell_type": "code",
   "execution_count": 1,
   "id": "c9d610ac",
   "metadata": {
    "scrolled": true
   },
   "outputs": [
    {
     "name": "stdout",
     "output_type": "stream",
     "text": [
      "pygame 2.1.2 (SDL 2.0.18, Python 3.9.7)\n",
      "Hello from the pygame community. https://www.pygame.org/contribute.html\n"
     ]
    },
    {
     "data": {
      "text/plain": [
       "(5, 0)"
      ]
     },
     "execution_count": 1,
     "metadata": {},
     "output_type": "execute_result"
    }
   ],
   "source": [
    "import sys, pygame\n",
    "pygame.init()"
   ]
  },
  {
   "cell_type": "markdown",
   "id": "5b0330fb",
   "metadata": {},
   "source": [
    "Next we initialize the variables:"
   ]
  },
  {
   "cell_type": "code",
   "execution_count": 2,
   "id": "cd592cc5",
   "metadata": {},
   "outputs": [],
   "source": [
    "size = width, height = 1020, 840\n",
    "speed = [1, 1]\n",
    "black = 0, 0, 0"
   ]
  },
  {
   "cell_type": "markdown",
   "id": "6baade5d",
   "metadata": {},
   "source": [
    "Now we create a graphical window with the call to pygame.display.set_mode(). \n",
    "Pygame and SDL make this easy by defaulting to the best graphics modes for the graphics hardware. \n",
    "You can override the mode and SDL will compensate for anything the hardware cannot do. \n",
    "\n",
    "Pygame represents images as Surface objects. \n",
    "The display.set_mode() function creates a new Surface object that represents the actual displayed graphics. \n",
    "Any drawing you do to this Surface will become visible on the monitor."
   ]
  },
  {
   "cell_type": "code",
   "execution_count": 3,
   "id": "1be2b180",
   "metadata": {},
   "outputs": [],
   "source": [
    "screen = pygame.display.set_mode(size)"
   ]
  },
  {
   "cell_type": "markdown",
   "id": "915e10ca",
   "metadata": {},
   "source": [
    "Here we load our ball image. Pygame supports a variety of image formats through theSDL_image library, including BMP, JPG, PNG, TGA, and GIF. \n",
    "The pygame.image.load() function returns us a Surface with the ball data. \n",
    "The Surface will keep any colorkey or alpha transparency from the file. After loading the ball image we create a variable named ballrect. \n",
    "Pygame comes with a convenient utility object type named Rect, which represents a rectangular area. Later, in the animation part of the code, we will see what the Rect objects can do."
   ]
  },
  {
   "cell_type": "code",
   "execution_count": 4,
   "id": "384b43d7",
   "metadata": {},
   "outputs": [],
   "source": [
    "ball = pygame.image.load(\"intro_ball.gif\")\n",
    "ballrect = ball.get_rect()"
   ]
  },
  {
   "cell_type": "markdown",
   "id": "f8910a6f",
   "metadata": {},
   "source": [
    "At this point our program is initialized and ready to run. Inside an infinite loop we check for user input, move the ball, and then draw the ball.\n",
    "We check if a QUIT event has happened. If so we simply exit the program, pygame will ensure everything is cleanly shutdown."
   ]
  },
  {
   "cell_type": "code",
   "execution_count": 5,
   "id": "ff47c742",
   "metadata": {},
   "outputs": [
    {
     "ename": "KeyboardInterrupt",
     "evalue": "",
     "output_type": "error",
     "traceback": [
      "\u001b[1;31m---------------------------------------------------------------------------\u001b[0m",
      "\u001b[1;31mKeyboardInterrupt\u001b[0m                         Traceback (most recent call last)",
      "\u001b[1;32m~\\AppData\\Local\\Temp/ipykernel_16328/2595572800.py\u001b[0m in \u001b[0;36m<module>\u001b[1;34m\u001b[0m\n\u001b[0;32m     11\u001b[0m     \u001b[0mscreen\u001b[0m\u001b[1;33m.\u001b[0m\u001b[0mfill\u001b[0m\u001b[1;33m(\u001b[0m\u001b[0mblack\u001b[0m\u001b[1;33m)\u001b[0m\u001b[1;33m\u001b[0m\u001b[1;33m\u001b[0m\u001b[0m\n\u001b[0;32m     12\u001b[0m     \u001b[0mscreen\u001b[0m\u001b[1;33m.\u001b[0m\u001b[0mblit\u001b[0m\u001b[1;33m(\u001b[0m\u001b[0mball\u001b[0m\u001b[1;33m,\u001b[0m \u001b[0mballrect\u001b[0m\u001b[1;33m)\u001b[0m\u001b[1;33m\u001b[0m\u001b[1;33m\u001b[0m\u001b[0m\n\u001b[1;32m---> 13\u001b[1;33m     \u001b[0mpygame\u001b[0m\u001b[1;33m.\u001b[0m\u001b[0mdisplay\u001b[0m\u001b[1;33m.\u001b[0m\u001b[0mflip\u001b[0m\u001b[1;33m(\u001b[0m\u001b[1;33m)\u001b[0m\u001b[1;33m\u001b[0m\u001b[1;33m\u001b[0m\u001b[0m\n\u001b[0m",
      "\u001b[1;31mKeyboardInterrupt\u001b[0m: "
     ]
    }
   ],
   "source": [
    "while 1:\n",
    "    for event in pygame.event.get():\n",
    "        if event.type == pygame.QUIT: sys.exit()\n",
    "\n",
    "    ballrect = ballrect.move(speed)\n",
    "    if ballrect.left < 0 or ballrect.right > width:\n",
    "        speed[0] = -speed[0]\n",
    "    if ballrect.top < 0 or ballrect.bottom > height:\n",
    "        speed[1] = -speed[1]\n",
    "\n",
    "    screen.fill(black)\n",
    "    screen.blit(ball, ballrect)\n",
    "    pygame.display.flip()"
   ]
  },
  {
   "cell_type": "markdown",
   "id": "83f8d200",
   "metadata": {},
   "source": [
    "To update our position for the ball, the ballrect variable moves it by the current speed. \n",
    "The two IF statements reverse the speed if the ball has moved outside the screen. \n",
    "\n",
    "Every time we move tha ball we erase the screen by filling it with a black RGB color. \n",
    "\n",
    "Then we draw the ball image onto the screen using the Surface.blit() method. A blit basically means copying pixel colors from one image to another. We pass the blit method a source Surface to copy from, and a position to place the source onto the destination.\n",
    "\n",
    "The last thing we need to do is actually update the visible display. Pygame manages the display with a double buffer. When we are finished drawing we call the pygame.display.flip()Update the full display Surface to the screen method. This makes everything we have drawn on the screen Surface become visible. This buffering makes sure we only see completely drawn frames on the screen. Without it, the user would see the half completed parts of the screen as they are being created."
   ]
  },
  {
   "cell_type": "code",
   "execution_count": null,
   "id": "7172fe82",
   "metadata": {},
   "outputs": [],
   "source": []
  }
 ],
 "metadata": {
  "kernelspec": {
   "display_name": "Python 3 (ipykernel)",
   "language": "python",
   "name": "python3"
  },
  "language_info": {
   "codemirror_mode": {
    "name": "ipython",
    "version": 3
   },
   "file_extension": ".py",
   "mimetype": "text/x-python",
   "name": "python",
   "nbconvert_exporter": "python",
   "pygments_lexer": "ipython3",
   "version": "3.9.7"
  }
 },
 "nbformat": 4,
 "nbformat_minor": 5
}
